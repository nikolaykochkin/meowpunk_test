{
 "cells": [
  {
   "cell_type": "code",
   "execution_count": 1,
   "id": "initial_id",
   "metadata": {
    "collapsed": true,
    "ExecuteTime": {
     "end_time": "2023-09-18T19:10:13.768736Z",
     "start_time": "2023-09-18T19:10:13.427233Z"
    }
   },
   "outputs": [],
   "source": [
    "import pandas as pd"
   ]
  },
  {
   "cell_type": "code",
   "execution_count": 2,
   "outputs": [],
   "source": [
    "clients = pd.read_csv('data/client.csv')"
   ],
   "metadata": {
    "collapsed": false,
    "ExecuteTime": {
     "end_time": "2023-09-18T19:10:15.155337Z",
     "start_time": "2023-09-18T19:10:13.701943Z"
    }
   },
   "id": "756004ae8003ba"
  },
  {
   "cell_type": "code",
   "execution_count": 3,
   "outputs": [
    {
     "data": {
      "text/plain": "0        {\"purpose\": \"```continue\\nOf special middle ma...\n1        {\"purpose\": \"Professional mean common able gun...\n2        {\"purpose\": \"![Without any in us daughter conf...\n3        {\"purpose\": \"<!-- Serious raise try everyone. ...\n4        {\"purpose\": \"> Sound manage their.\\n\\nPopular ...\n                               ...                        \n66674    {\"purpose\": \"Culture sound yeah.\\n\\n___\\n\\n[Di...\n66675    {\"purpose\": \"Rather bed control care. Environm...\n66676    {\"purpose\": \"Catch Mr current.\\n\\nexactly\\nbey...\n66677    {\"purpose\": \"|Three box me least type.|Likely ...\n66678    {\"purpose\": \"<!-- Least forward lawyer might f...\nName: description, Length: 66679, dtype: object"
     },
     "execution_count": 3,
     "metadata": {},
     "output_type": "execute_result"
    }
   ],
   "source": [
    "clients.description"
   ],
   "metadata": {
    "collapsed": false,
    "ExecuteTime": {
     "end_time": "2023-09-18T19:10:15.162948Z",
     "start_time": "2023-09-18T19:10:15.156976Z"
    }
   },
   "id": "78f48738554b5d20"
  },
  {
   "cell_type": "code",
   "execution_count": 4,
   "outputs": [
    {
     "data": {
      "text/plain": "    timestamp                              error_id  player_id  \\\n0  1615148137  9f38f71f-427c-4708-89b1-460447beee60     808459   \n1  1621913820  52f42851-6d59-4357-9377-034f1ffdc011     687824   \n2  1609941800  bf863c14-64a3-4edc-b9ff-49a6c0955166     729781   \n3  1612068364  38152c64-d439-43cf-9856-4ca35d39d7ac     131824   \n4  1622449698  d67cef6e-40fb-4301-9d0d-4c6674c275a7     169066   \n\n                                         description  \n0  {\"purpose\": \"```continue\\nOf special middle ma...  \n1  {\"purpose\": \"Professional mean common able gun...  \n2  {\"purpose\": \"![Without any in us daughter conf...  \n3  {\"purpose\": \"<!-- Serious raise try everyone. ...  \n4  {\"purpose\": \"> Sound manage their.\\n\\nPopular ...  ",
      "text/html": "<div>\n<style scoped>\n    .dataframe tbody tr th:only-of-type {\n        vertical-align: middle;\n    }\n\n    .dataframe tbody tr th {\n        vertical-align: top;\n    }\n\n    .dataframe thead th {\n        text-align: right;\n    }\n</style>\n<table border=\"1\" class=\"dataframe\">\n  <thead>\n    <tr style=\"text-align: right;\">\n      <th></th>\n      <th>timestamp</th>\n      <th>error_id</th>\n      <th>player_id</th>\n      <th>description</th>\n    </tr>\n  </thead>\n  <tbody>\n    <tr>\n      <th>0</th>\n      <td>1615148137</td>\n      <td>9f38f71f-427c-4708-89b1-460447beee60</td>\n      <td>808459</td>\n      <td>{\"purpose\": \"```continue\\nOf special middle ma...</td>\n    </tr>\n    <tr>\n      <th>1</th>\n      <td>1621913820</td>\n      <td>52f42851-6d59-4357-9377-034f1ffdc011</td>\n      <td>687824</td>\n      <td>{\"purpose\": \"Professional mean common able gun...</td>\n    </tr>\n    <tr>\n      <th>2</th>\n      <td>1609941800</td>\n      <td>bf863c14-64a3-4edc-b9ff-49a6c0955166</td>\n      <td>729781</td>\n      <td>{\"purpose\": \"![Without any in us daughter conf...</td>\n    </tr>\n    <tr>\n      <th>3</th>\n      <td>1612068364</td>\n      <td>38152c64-d439-43cf-9856-4ca35d39d7ac</td>\n      <td>131824</td>\n      <td>{\"purpose\": \"&lt;!-- Serious raise try everyone. ...</td>\n    </tr>\n    <tr>\n      <th>4</th>\n      <td>1622449698</td>\n      <td>d67cef6e-40fb-4301-9d0d-4c6674c275a7</td>\n      <td>169066</td>\n      <td>{\"purpose\": \"&gt; Sound manage their.\\n\\nPopular ...</td>\n    </tr>\n  </tbody>\n</table>\n</div>"
     },
     "execution_count": 4,
     "metadata": {},
     "output_type": "execute_result"
    }
   ],
   "source": [
    "clients.head()"
   ],
   "metadata": {
    "collapsed": false,
    "ExecuteTime": {
     "end_time": "2023-09-18T19:10:15.165237Z",
     "start_time": "2023-09-18T19:10:15.160133Z"
    }
   },
   "id": "295bc69e513c7731"
  },
  {
   "cell_type": "code",
   "execution_count": 5,
   "outputs": [],
   "source": [
    "server = pd.read_csv('data/server.csv')"
   ],
   "metadata": {
    "collapsed": false,
    "ExecuteTime": {
     "end_time": "2023-09-18T19:10:16.644250Z",
     "start_time": "2023-09-18T19:10:15.165293Z"
    }
   },
   "id": "d9ba78ee5045ad13"
  },
  {
   "cell_type": "code",
   "execution_count": 6,
   "outputs": [
    {
     "data": {
      "text/plain": "    timestamp  event_id                              error_id  \\\n0  1613793745        48  c63c530e-cb13-45af-a5d6-98b496e25914   \n1  1612068364        76  38152c64-d439-43cf-9856-4ca35d39d7ac   \n2  1611038860        79  42466610-f76d-4b88-a45d-613ba9908cd0   \n3  1622449698        39  d67cef6e-40fb-4301-9d0d-4c6674c275a7   \n4  1613256285        64  621cf303-9bb0-4c63-8eb0-6de9a2538fda   \n\n                                         description  \n0  {\"purpose\": \"1. Outside media section try idea...  \n1  {\"purpose\": \"***\\n\\n|Yet know ten just.|Us ind...  \n2  {\"purpose\": \"1. Fall court door forget give as...  \n3  {\"purpose\": \"Lay authority debate fast. Cut re...  \n4  {\"purpose\": \"<!-- Talk significant yourself se...  ",
      "text/html": "<div>\n<style scoped>\n    .dataframe tbody tr th:only-of-type {\n        vertical-align: middle;\n    }\n\n    .dataframe tbody tr th {\n        vertical-align: top;\n    }\n\n    .dataframe thead th {\n        text-align: right;\n    }\n</style>\n<table border=\"1\" class=\"dataframe\">\n  <thead>\n    <tr style=\"text-align: right;\">\n      <th></th>\n      <th>timestamp</th>\n      <th>event_id</th>\n      <th>error_id</th>\n      <th>description</th>\n    </tr>\n  </thead>\n  <tbody>\n    <tr>\n      <th>0</th>\n      <td>1613793745</td>\n      <td>48</td>\n      <td>c63c530e-cb13-45af-a5d6-98b496e25914</td>\n      <td>{\"purpose\": \"1. Outside media section try idea...</td>\n    </tr>\n    <tr>\n      <th>1</th>\n      <td>1612068364</td>\n      <td>76</td>\n      <td>38152c64-d439-43cf-9856-4ca35d39d7ac</td>\n      <td>{\"purpose\": \"***\\n\\n|Yet know ten just.|Us ind...</td>\n    </tr>\n    <tr>\n      <th>2</th>\n      <td>1611038860</td>\n      <td>79</td>\n      <td>42466610-f76d-4b88-a45d-613ba9908cd0</td>\n      <td>{\"purpose\": \"1. Fall court door forget give as...</td>\n    </tr>\n    <tr>\n      <th>3</th>\n      <td>1622449698</td>\n      <td>39</td>\n      <td>d67cef6e-40fb-4301-9d0d-4c6674c275a7</td>\n      <td>{\"purpose\": \"Lay authority debate fast. Cut re...</td>\n    </tr>\n    <tr>\n      <th>4</th>\n      <td>1613256285</td>\n      <td>64</td>\n      <td>621cf303-9bb0-4c63-8eb0-6de9a2538fda</td>\n      <td>{\"purpose\": \"&lt;!-- Talk significant yourself se...</td>\n    </tr>\n  </tbody>\n</table>\n</div>"
     },
     "execution_count": 6,
     "metadata": {},
     "output_type": "execute_result"
    }
   ],
   "source": [
    "server.head()"
   ],
   "metadata": {
    "collapsed": false,
    "ExecuteTime": {
     "end_time": "2023-09-18T19:10:16.651838Z",
     "start_time": "2023-09-18T19:10:16.645569Z"
    }
   },
   "id": "ee8dff2107d23a69"
  },
  {
   "cell_type": "code",
   "execution_count": 7,
   "outputs": [],
   "source": [
    "import sqlite3"
   ],
   "metadata": {
    "collapsed": false,
    "ExecuteTime": {
     "end_time": "2023-09-18T19:10:16.651997Z",
     "start_time": "2023-09-18T19:10:16.648324Z"
    }
   },
   "id": "7ea4c86e22a0ecde"
  },
  {
   "cell_type": "code",
   "execution_count": 8,
   "outputs": [],
   "source": [
    "cnx = sqlite3.connect('data/cheaters.db')"
   ],
   "metadata": {
    "collapsed": false,
    "ExecuteTime": {
     "end_time": "2023-09-18T19:10:16.653837Z",
     "start_time": "2023-09-18T19:10:16.650362Z"
    }
   },
   "id": "8abf1db58068483e"
  },
  {
   "cell_type": "code",
   "execution_count": 9,
   "outputs": [],
   "source": [
    "cheaters = pd.read_sql(\"SELECT * FROM cheaters\", cnx)"
   ],
   "metadata": {
    "collapsed": false,
    "ExecuteTime": {
     "end_time": "2023-09-18T19:10:16.663258Z",
     "start_time": "2023-09-18T19:10:16.652496Z"
    }
   },
   "id": "80835e648440705e"
  },
  {
   "cell_type": "code",
   "execution_count": 10,
   "outputs": [
    {
     "data": {
      "text/plain": "   player_id             ban_time\n0       1065  2021-04-02 20:48:00\n1       1148  2021-03-22 20:49:18\n2       1154  2021-05-19 07:50:19\n3       1219  2021-04-07 19:47:12\n4       1230  2021-05-09 23:42:07",
      "text/html": "<div>\n<style scoped>\n    .dataframe tbody tr th:only-of-type {\n        vertical-align: middle;\n    }\n\n    .dataframe tbody tr th {\n        vertical-align: top;\n    }\n\n    .dataframe thead th {\n        text-align: right;\n    }\n</style>\n<table border=\"1\" class=\"dataframe\">\n  <thead>\n    <tr style=\"text-align: right;\">\n      <th></th>\n      <th>player_id</th>\n      <th>ban_time</th>\n    </tr>\n  </thead>\n  <tbody>\n    <tr>\n      <th>0</th>\n      <td>1065</td>\n      <td>2021-04-02 20:48:00</td>\n    </tr>\n    <tr>\n      <th>1</th>\n      <td>1148</td>\n      <td>2021-03-22 20:49:18</td>\n    </tr>\n    <tr>\n      <th>2</th>\n      <td>1154</td>\n      <td>2021-05-19 07:50:19</td>\n    </tr>\n    <tr>\n      <th>3</th>\n      <td>1219</td>\n      <td>2021-04-07 19:47:12</td>\n    </tr>\n    <tr>\n      <th>4</th>\n      <td>1230</td>\n      <td>2021-05-09 23:42:07</td>\n    </tr>\n  </tbody>\n</table>\n</div>"
     },
     "execution_count": 10,
     "metadata": {},
     "output_type": "execute_result"
    }
   ],
   "source": [
    "cheaters.head()"
   ],
   "metadata": {
    "collapsed": false,
    "ExecuteTime": {
     "end_time": "2023-09-18T19:10:16.676957Z",
     "start_time": "2023-09-18T19:10:16.664615Z"
    }
   },
   "id": "ed1cf2b6836f6b46"
  },
  {
   "cell_type": "code",
   "execution_count": 11,
   "outputs": [],
   "source": [
    "taskdb = sqlite3.connect('data/task.db')"
   ],
   "metadata": {
    "collapsed": false,
    "ExecuteTime": {
     "end_time": "2023-09-18T19:10:16.677131Z",
     "start_time": "2023-09-18T19:10:16.667240Z"
    }
   },
   "id": "ef1d127568aca4b"
  },
  {
   "cell_type": "code",
   "execution_count": 12,
   "outputs": [],
   "source": [
    "taskdb.commit()"
   ],
   "metadata": {
    "collapsed": false,
    "ExecuteTime": {
     "end_time": "2023-09-18T19:10:16.677371Z",
     "start_time": "2023-09-18T19:10:16.669531Z"
    }
   },
   "id": "159167514ffa5bdd"
  },
  {
   "cell_type": "code",
   "execution_count": 13,
   "outputs": [],
   "source": [
    "clients.timestamp = pd.to_datetime(clients.timestamp)"
   ],
   "metadata": {
    "collapsed": false,
    "ExecuteTime": {
     "end_time": "2023-09-18T19:10:16.715741Z",
     "start_time": "2023-09-18T19:10:16.682698Z"
    }
   },
   "id": "1be88206dc430c90"
  },
  {
   "cell_type": "code",
   "execution_count": 14,
   "outputs": [
    {
     "data": {
      "text/plain": "                      timestamp                              error_id  \\\n0 1970-01-01 00:00:01.615148137  9f38f71f-427c-4708-89b1-460447beee60   \n1 1970-01-01 00:00:01.621913820  52f42851-6d59-4357-9377-034f1ffdc011   \n2 1970-01-01 00:00:01.609941800  bf863c14-64a3-4edc-b9ff-49a6c0955166   \n3 1970-01-01 00:00:01.612068364  38152c64-d439-43cf-9856-4ca35d39d7ac   \n4 1970-01-01 00:00:01.622449698  d67cef6e-40fb-4301-9d0d-4c6674c275a7   \n\n   player_id                                        description  \n0     808459  {\"purpose\": \"```continue\\nOf special middle ma...  \n1     687824  {\"purpose\": \"Professional mean common able gun...  \n2     729781  {\"purpose\": \"![Without any in us daughter conf...  \n3     131824  {\"purpose\": \"<!-- Serious raise try everyone. ...  \n4     169066  {\"purpose\": \"> Sound manage their.\\n\\nPopular ...  ",
      "text/html": "<div>\n<style scoped>\n    .dataframe tbody tr th:only-of-type {\n        vertical-align: middle;\n    }\n\n    .dataframe tbody tr th {\n        vertical-align: top;\n    }\n\n    .dataframe thead th {\n        text-align: right;\n    }\n</style>\n<table border=\"1\" class=\"dataframe\">\n  <thead>\n    <tr style=\"text-align: right;\">\n      <th></th>\n      <th>timestamp</th>\n      <th>error_id</th>\n      <th>player_id</th>\n      <th>description</th>\n    </tr>\n  </thead>\n  <tbody>\n    <tr>\n      <th>0</th>\n      <td>1970-01-01 00:00:01.615148137</td>\n      <td>9f38f71f-427c-4708-89b1-460447beee60</td>\n      <td>808459</td>\n      <td>{\"purpose\": \"```continue\\nOf special middle ma...</td>\n    </tr>\n    <tr>\n      <th>1</th>\n      <td>1970-01-01 00:00:01.621913820</td>\n      <td>52f42851-6d59-4357-9377-034f1ffdc011</td>\n      <td>687824</td>\n      <td>{\"purpose\": \"Professional mean common able gun...</td>\n    </tr>\n    <tr>\n      <th>2</th>\n      <td>1970-01-01 00:00:01.609941800</td>\n      <td>bf863c14-64a3-4edc-b9ff-49a6c0955166</td>\n      <td>729781</td>\n      <td>{\"purpose\": \"![Without any in us daughter conf...</td>\n    </tr>\n    <tr>\n      <th>3</th>\n      <td>1970-01-01 00:00:01.612068364</td>\n      <td>38152c64-d439-43cf-9856-4ca35d39d7ac</td>\n      <td>131824</td>\n      <td>{\"purpose\": \"&lt;!-- Serious raise try everyone. ...</td>\n    </tr>\n    <tr>\n      <th>4</th>\n      <td>1970-01-01 00:00:01.622449698</td>\n      <td>d67cef6e-40fb-4301-9d0d-4c6674c275a7</td>\n      <td>169066</td>\n      <td>{\"purpose\": \"&gt; Sound manage their.\\n\\nPopular ...</td>\n    </tr>\n  </tbody>\n</table>\n</div>"
     },
     "execution_count": 14,
     "metadata": {},
     "output_type": "execute_result"
    }
   ],
   "source": [
    "clients.head()"
   ],
   "metadata": {
    "collapsed": false,
    "ExecuteTime": {
     "end_time": "2023-09-18T19:10:16.716241Z",
     "start_time": "2023-09-18T19:10:16.689088Z"
    }
   },
   "id": "33284d7fdaa71203"
  },
  {
   "cell_type": "code",
   "execution_count": 15,
   "outputs": [],
   "source": [
    "clients = pd.read_csv('data/client.csv')"
   ],
   "metadata": {
    "collapsed": false,
    "ExecuteTime": {
     "end_time": "2023-09-18T19:10:18.143312Z",
     "start_time": "2023-09-18T19:10:16.691476Z"
    }
   },
   "id": "c0547c0945a0ea6d"
  },
  {
   "cell_type": "code",
   "execution_count": 16,
   "outputs": [
    {
     "data": {
      "text/plain": "    timestamp                              error_id  player_id  \\\n0  1615148137  9f38f71f-427c-4708-89b1-460447beee60     808459   \n1  1621913820  52f42851-6d59-4357-9377-034f1ffdc011     687824   \n2  1609941800  bf863c14-64a3-4edc-b9ff-49a6c0955166     729781   \n3  1612068364  38152c64-d439-43cf-9856-4ca35d39d7ac     131824   \n4  1622449698  d67cef6e-40fb-4301-9d0d-4c6674c275a7     169066   \n\n                                         description  \n0  {\"purpose\": \"```continue\\nOf special middle ma...  \n1  {\"purpose\": \"Professional mean common able gun...  \n2  {\"purpose\": \"![Without any in us daughter conf...  \n3  {\"purpose\": \"<!-- Serious raise try everyone. ...  \n4  {\"purpose\": \"> Sound manage their.\\n\\nPopular ...  ",
      "text/html": "<div>\n<style scoped>\n    .dataframe tbody tr th:only-of-type {\n        vertical-align: middle;\n    }\n\n    .dataframe tbody tr th {\n        vertical-align: top;\n    }\n\n    .dataframe thead th {\n        text-align: right;\n    }\n</style>\n<table border=\"1\" class=\"dataframe\">\n  <thead>\n    <tr style=\"text-align: right;\">\n      <th></th>\n      <th>timestamp</th>\n      <th>error_id</th>\n      <th>player_id</th>\n      <th>description</th>\n    </tr>\n  </thead>\n  <tbody>\n    <tr>\n      <th>0</th>\n      <td>1615148137</td>\n      <td>9f38f71f-427c-4708-89b1-460447beee60</td>\n      <td>808459</td>\n      <td>{\"purpose\": \"```continue\\nOf special middle ma...</td>\n    </tr>\n    <tr>\n      <th>1</th>\n      <td>1621913820</td>\n      <td>52f42851-6d59-4357-9377-034f1ffdc011</td>\n      <td>687824</td>\n      <td>{\"purpose\": \"Professional mean common able gun...</td>\n    </tr>\n    <tr>\n      <th>2</th>\n      <td>1609941800</td>\n      <td>bf863c14-64a3-4edc-b9ff-49a6c0955166</td>\n      <td>729781</td>\n      <td>{\"purpose\": \"![Without any in us daughter conf...</td>\n    </tr>\n    <tr>\n      <th>3</th>\n      <td>1612068364</td>\n      <td>38152c64-d439-43cf-9856-4ca35d39d7ac</td>\n      <td>131824</td>\n      <td>{\"purpose\": \"&lt;!-- Serious raise try everyone. ...</td>\n    </tr>\n    <tr>\n      <th>4</th>\n      <td>1622449698</td>\n      <td>d67cef6e-40fb-4301-9d0d-4c6674c275a7</td>\n      <td>169066</td>\n      <td>{\"purpose\": \"&gt; Sound manage their.\\n\\nPopular ...</td>\n    </tr>\n  </tbody>\n</table>\n</div>"
     },
     "execution_count": 16,
     "metadata": {},
     "output_type": "execute_result"
    }
   ],
   "source": [
    "clients.head()"
   ],
   "metadata": {
    "collapsed": false,
    "ExecuteTime": {
     "end_time": "2023-09-18T19:10:18.151665Z",
     "start_time": "2023-09-18T19:10:18.144705Z"
    }
   },
   "id": "814f09248844bd46"
  },
  {
   "cell_type": "code",
   "execution_count": 17,
   "outputs": [],
   "source": [
    "clients.timestamp = pd.to_datetime(clients.timestamp, unit='s')"
   ],
   "metadata": {
    "collapsed": false,
    "ExecuteTime": {
     "end_time": "2023-09-18T19:10:18.153303Z",
     "start_time": "2023-09-18T19:10:18.147241Z"
    }
   },
   "id": "358980ffa7d8d32f"
  },
  {
   "cell_type": "code",
   "execution_count": 18,
   "outputs": [
    {
     "data": {
      "text/plain": "            timestamp                              error_id  player_id  \\\n0 2021-03-07 20:15:37  9f38f71f-427c-4708-89b1-460447beee60     808459   \n1 2021-05-25 03:37:00  52f42851-6d59-4357-9377-034f1ffdc011     687824   \n2 2021-01-06 14:03:20  bf863c14-64a3-4edc-b9ff-49a6c0955166     729781   \n3 2021-01-31 04:46:04  38152c64-d439-43cf-9856-4ca35d39d7ac     131824   \n4 2021-05-31 08:28:18  d67cef6e-40fb-4301-9d0d-4c6674c275a7     169066   \n\n                                         description  \n0  {\"purpose\": \"```continue\\nOf special middle ma...  \n1  {\"purpose\": \"Professional mean common able gun...  \n2  {\"purpose\": \"![Without any in us daughter conf...  \n3  {\"purpose\": \"<!-- Serious raise try everyone. ...  \n4  {\"purpose\": \"> Sound manage their.\\n\\nPopular ...  ",
      "text/html": "<div>\n<style scoped>\n    .dataframe tbody tr th:only-of-type {\n        vertical-align: middle;\n    }\n\n    .dataframe tbody tr th {\n        vertical-align: top;\n    }\n\n    .dataframe thead th {\n        text-align: right;\n    }\n</style>\n<table border=\"1\" class=\"dataframe\">\n  <thead>\n    <tr style=\"text-align: right;\">\n      <th></th>\n      <th>timestamp</th>\n      <th>error_id</th>\n      <th>player_id</th>\n      <th>description</th>\n    </tr>\n  </thead>\n  <tbody>\n    <tr>\n      <th>0</th>\n      <td>2021-03-07 20:15:37</td>\n      <td>9f38f71f-427c-4708-89b1-460447beee60</td>\n      <td>808459</td>\n      <td>{\"purpose\": \"```continue\\nOf special middle ma...</td>\n    </tr>\n    <tr>\n      <th>1</th>\n      <td>2021-05-25 03:37:00</td>\n      <td>52f42851-6d59-4357-9377-034f1ffdc011</td>\n      <td>687824</td>\n      <td>{\"purpose\": \"Professional mean common able gun...</td>\n    </tr>\n    <tr>\n      <th>2</th>\n      <td>2021-01-06 14:03:20</td>\n      <td>bf863c14-64a3-4edc-b9ff-49a6c0955166</td>\n      <td>729781</td>\n      <td>{\"purpose\": \"![Without any in us daughter conf...</td>\n    </tr>\n    <tr>\n      <th>3</th>\n      <td>2021-01-31 04:46:04</td>\n      <td>38152c64-d439-43cf-9856-4ca35d39d7ac</td>\n      <td>131824</td>\n      <td>{\"purpose\": \"&lt;!-- Serious raise try everyone. ...</td>\n    </tr>\n    <tr>\n      <th>4</th>\n      <td>2021-05-31 08:28:18</td>\n      <td>d67cef6e-40fb-4301-9d0d-4c6674c275a7</td>\n      <td>169066</td>\n      <td>{\"purpose\": \"&gt; Sound manage their.\\n\\nPopular ...</td>\n    </tr>\n  </tbody>\n</table>\n</div>"
     },
     "execution_count": 18,
     "metadata": {},
     "output_type": "execute_result"
    }
   ],
   "source": [
    "clients.head()"
   ],
   "metadata": {
    "collapsed": false,
    "ExecuteTime": {
     "end_time": "2023-09-18T19:10:18.161199Z",
     "start_time": "2023-09-18T19:10:18.155134Z"
    }
   },
   "id": "8d1c4faaa4d9cc0e"
  },
  {
   "cell_type": "code",
   "execution_count": 19,
   "outputs": [],
   "source": [
    "server.timestamp = pd.to_datetime(server.timestamp, unit='s')"
   ],
   "metadata": {
    "collapsed": false,
    "ExecuteTime": {
     "end_time": "2023-09-18T19:10:18.176405Z",
     "start_time": "2023-09-18T19:10:18.157888Z"
    }
   },
   "id": "e67dceab5b3ebb2f"
  },
  {
   "cell_type": "code",
   "execution_count": 20,
   "outputs": [
    {
     "data": {
      "text/plain": "            timestamp  event_id                              error_id  \\\n0 2021-02-20 04:02:25        48  c63c530e-cb13-45af-a5d6-98b496e25914   \n1 2021-01-31 04:46:04        76  38152c64-d439-43cf-9856-4ca35d39d7ac   \n2 2021-01-19 06:47:40        79  42466610-f76d-4b88-a45d-613ba9908cd0   \n3 2021-05-31 08:28:18        39  d67cef6e-40fb-4301-9d0d-4c6674c275a7   \n4 2021-02-13 22:44:45        64  621cf303-9bb0-4c63-8eb0-6de9a2538fda   \n\n                                         description  \n0  {\"purpose\": \"1. Outside media section try idea...  \n1  {\"purpose\": \"***\\n\\n|Yet know ten just.|Us ind...  \n2  {\"purpose\": \"1. Fall court door forget give as...  \n3  {\"purpose\": \"Lay authority debate fast. Cut re...  \n4  {\"purpose\": \"<!-- Talk significant yourself se...  ",
      "text/html": "<div>\n<style scoped>\n    .dataframe tbody tr th:only-of-type {\n        vertical-align: middle;\n    }\n\n    .dataframe tbody tr th {\n        vertical-align: top;\n    }\n\n    .dataframe thead th {\n        text-align: right;\n    }\n</style>\n<table border=\"1\" class=\"dataframe\">\n  <thead>\n    <tr style=\"text-align: right;\">\n      <th></th>\n      <th>timestamp</th>\n      <th>event_id</th>\n      <th>error_id</th>\n      <th>description</th>\n    </tr>\n  </thead>\n  <tbody>\n    <tr>\n      <th>0</th>\n      <td>2021-02-20 04:02:25</td>\n      <td>48</td>\n      <td>c63c530e-cb13-45af-a5d6-98b496e25914</td>\n      <td>{\"purpose\": \"1. Outside media section try idea...</td>\n    </tr>\n    <tr>\n      <th>1</th>\n      <td>2021-01-31 04:46:04</td>\n      <td>76</td>\n      <td>38152c64-d439-43cf-9856-4ca35d39d7ac</td>\n      <td>{\"purpose\": \"***\\n\\n|Yet know ten just.|Us ind...</td>\n    </tr>\n    <tr>\n      <th>2</th>\n      <td>2021-01-19 06:47:40</td>\n      <td>79</td>\n      <td>42466610-f76d-4b88-a45d-613ba9908cd0</td>\n      <td>{\"purpose\": \"1. Fall court door forget give as...</td>\n    </tr>\n    <tr>\n      <th>3</th>\n      <td>2021-05-31 08:28:18</td>\n      <td>39</td>\n      <td>d67cef6e-40fb-4301-9d0d-4c6674c275a7</td>\n      <td>{\"purpose\": \"Lay authority debate fast. Cut re...</td>\n    </tr>\n    <tr>\n      <th>4</th>\n      <td>2021-02-13 22:44:45</td>\n      <td>64</td>\n      <td>621cf303-9bb0-4c63-8eb0-6de9a2538fda</td>\n      <td>{\"purpose\": \"&lt;!-- Talk significant yourself se...</td>\n    </tr>\n  </tbody>\n</table>\n</div>"
     },
     "execution_count": 20,
     "metadata": {},
     "output_type": "execute_result"
    }
   ],
   "source": [
    "server.head()"
   ],
   "metadata": {
    "collapsed": false,
    "ExecuteTime": {
     "end_time": "2023-09-18T19:10:18.176828Z",
     "start_time": "2023-09-18T19:10:18.165453Z"
    }
   },
   "id": "bfac3ef2533b0afd"
  },
  {
   "cell_type": "code",
   "execution_count": 21,
   "outputs": [
    {
     "data": {
      "text/plain": "            timestamp  event_id                              error_id  \\\n0 2021-02-20 04:02:25        48  c63c530e-cb13-45af-a5d6-98b496e25914   \n1 2021-01-31 04:46:04        76  38152c64-d439-43cf-9856-4ca35d39d7ac   \n2 2021-01-19 06:47:40        79  42466610-f76d-4b88-a45d-613ba9908cd0   \n3 2021-05-31 08:28:18        39  d67cef6e-40fb-4301-9d0d-4c6674c275a7   \n4 2021-02-13 22:44:45        64  621cf303-9bb0-4c63-8eb0-6de9a2538fda   \n\n                                         description  \n0  {\"purpose\": \"1. Outside media section try idea...  \n1  {\"purpose\": \"***\\n\\n|Yet know ten just.|Us ind...  \n2  {\"purpose\": \"1. Fall court door forget give as...  \n3  {\"purpose\": \"Lay authority debate fast. Cut re...  \n4  {\"purpose\": \"<!-- Talk significant yourself se...  ",
      "text/html": "<div>\n<style scoped>\n    .dataframe tbody tr th:only-of-type {\n        vertical-align: middle;\n    }\n\n    .dataframe tbody tr th {\n        vertical-align: top;\n    }\n\n    .dataframe thead th {\n        text-align: right;\n    }\n</style>\n<table border=\"1\" class=\"dataframe\">\n  <thead>\n    <tr style=\"text-align: right;\">\n      <th></th>\n      <th>timestamp</th>\n      <th>event_id</th>\n      <th>error_id</th>\n      <th>description</th>\n    </tr>\n  </thead>\n  <tbody>\n    <tr>\n      <th>0</th>\n      <td>2021-02-20 04:02:25</td>\n      <td>48</td>\n      <td>c63c530e-cb13-45af-a5d6-98b496e25914</td>\n      <td>{\"purpose\": \"1. Outside media section try idea...</td>\n    </tr>\n    <tr>\n      <th>1</th>\n      <td>2021-01-31 04:46:04</td>\n      <td>76</td>\n      <td>38152c64-d439-43cf-9856-4ca35d39d7ac</td>\n      <td>{\"purpose\": \"***\\n\\n|Yet know ten just.|Us ind...</td>\n    </tr>\n    <tr>\n      <th>2</th>\n      <td>2021-01-19 06:47:40</td>\n      <td>79</td>\n      <td>42466610-f76d-4b88-a45d-613ba9908cd0</td>\n      <td>{\"purpose\": \"1. Fall court door forget give as...</td>\n    </tr>\n    <tr>\n      <th>3</th>\n      <td>2021-05-31 08:28:18</td>\n      <td>39</td>\n      <td>d67cef6e-40fb-4301-9d0d-4c6674c275a7</td>\n      <td>{\"purpose\": \"Lay authority debate fast. Cut re...</td>\n    </tr>\n    <tr>\n      <th>4</th>\n      <td>2021-02-13 22:44:45</td>\n      <td>64</td>\n      <td>621cf303-9bb0-4c63-8eb0-6de9a2538fda</td>\n      <td>{\"purpose\": \"&lt;!-- Talk significant yourself se...</td>\n    </tr>\n  </tbody>\n</table>\n</div>"
     },
     "execution_count": 21,
     "metadata": {},
     "output_type": "execute_result"
    }
   ],
   "source": [
    "server.head()"
   ],
   "metadata": {
    "collapsed": false,
    "ExecuteTime": {
     "end_time": "2023-09-18T19:10:18.177237Z",
     "start_time": "2023-09-18T19:10:18.169230Z"
    }
   },
   "id": "6cbe83bfb5100ba4"
  },
  {
   "cell_type": "code",
   "execution_count": 22,
   "outputs": [
    {
     "name": "stderr",
     "output_type": "stream",
     "text": [
      "/var/folders/w2/9rtz9bm53f345x8g7dmpfvnh0000gn/T/ipykernel_97535/4208107783.py:1: UserWarning: Pandas doesn't allow columns to be created via a new attribute name - see https://pandas.pydata.org/pandas-docs/stable/indexing.html#attribute-access\n",
      "  server.date = server.timestamp.dt.date\n"
     ]
    }
   ],
   "source": [
    "server.date = server.timestamp.dt.date"
   ],
   "metadata": {
    "collapsed": false,
    "ExecuteTime": {
     "end_time": "2023-09-18T19:10:18.228299Z",
     "start_time": "2023-09-18T19:10:18.179093Z"
    }
   },
   "id": "32791bd89c853e97"
  },
  {
   "cell_type": "code",
   "execution_count": 23,
   "outputs": [
    {
     "data": {
      "text/plain": "            timestamp  event_id                              error_id  \\\n0 2021-02-20 04:02:25        48  c63c530e-cb13-45af-a5d6-98b496e25914   \n1 2021-01-31 04:46:04        76  38152c64-d439-43cf-9856-4ca35d39d7ac   \n2 2021-01-19 06:47:40        79  42466610-f76d-4b88-a45d-613ba9908cd0   \n3 2021-05-31 08:28:18        39  d67cef6e-40fb-4301-9d0d-4c6674c275a7   \n4 2021-02-13 22:44:45        64  621cf303-9bb0-4c63-8eb0-6de9a2538fda   \n\n                                         description  \n0  {\"purpose\": \"1. Outside media section try idea...  \n1  {\"purpose\": \"***\\n\\n|Yet know ten just.|Us ind...  \n2  {\"purpose\": \"1. Fall court door forget give as...  \n3  {\"purpose\": \"Lay authority debate fast. Cut re...  \n4  {\"purpose\": \"<!-- Talk significant yourself se...  ",
      "text/html": "<div>\n<style scoped>\n    .dataframe tbody tr th:only-of-type {\n        vertical-align: middle;\n    }\n\n    .dataframe tbody tr th {\n        vertical-align: top;\n    }\n\n    .dataframe thead th {\n        text-align: right;\n    }\n</style>\n<table border=\"1\" class=\"dataframe\">\n  <thead>\n    <tr style=\"text-align: right;\">\n      <th></th>\n      <th>timestamp</th>\n      <th>event_id</th>\n      <th>error_id</th>\n      <th>description</th>\n    </tr>\n  </thead>\n  <tbody>\n    <tr>\n      <th>0</th>\n      <td>2021-02-20 04:02:25</td>\n      <td>48</td>\n      <td>c63c530e-cb13-45af-a5d6-98b496e25914</td>\n      <td>{\"purpose\": \"1. Outside media section try idea...</td>\n    </tr>\n    <tr>\n      <th>1</th>\n      <td>2021-01-31 04:46:04</td>\n      <td>76</td>\n      <td>38152c64-d439-43cf-9856-4ca35d39d7ac</td>\n      <td>{\"purpose\": \"***\\n\\n|Yet know ten just.|Us ind...</td>\n    </tr>\n    <tr>\n      <th>2</th>\n      <td>2021-01-19 06:47:40</td>\n      <td>79</td>\n      <td>42466610-f76d-4b88-a45d-613ba9908cd0</td>\n      <td>{\"purpose\": \"1. Fall court door forget give as...</td>\n    </tr>\n    <tr>\n      <th>3</th>\n      <td>2021-05-31 08:28:18</td>\n      <td>39</td>\n      <td>d67cef6e-40fb-4301-9d0d-4c6674c275a7</td>\n      <td>{\"purpose\": \"Lay authority debate fast. Cut re...</td>\n    </tr>\n    <tr>\n      <th>4</th>\n      <td>2021-02-13 22:44:45</td>\n      <td>64</td>\n      <td>621cf303-9bb0-4c63-8eb0-6de9a2538fda</td>\n      <td>{\"purpose\": \"&lt;!-- Talk significant yourself se...</td>\n    </tr>\n  </tbody>\n</table>\n</div>"
     },
     "execution_count": 23,
     "metadata": {},
     "output_type": "execute_result"
    }
   ],
   "source": [
    "server.head()"
   ],
   "metadata": {
    "collapsed": false,
    "ExecuteTime": {
     "end_time": "2023-09-18T19:10:18.232399Z",
     "start_time": "2023-09-18T19:10:18.183005Z"
    }
   },
   "id": "74e4d1dbef36a9fc"
  },
  {
   "cell_type": "code",
   "execution_count": 24,
   "outputs": [],
   "source": [
    "server['date'] = server.timestamp.dt.date"
   ],
   "metadata": {
    "collapsed": false,
    "ExecuteTime": {
     "end_time": "2023-09-18T19:10:18.260335Z",
     "start_time": "2023-09-18T19:10:18.185460Z"
    }
   },
   "id": "bfb152fa59e0128a"
  },
  {
   "cell_type": "code",
   "execution_count": 25,
   "outputs": [
    {
     "data": {
      "text/plain": "            timestamp  event_id                              error_id  \\\n0 2021-02-20 04:02:25        48  c63c530e-cb13-45af-a5d6-98b496e25914   \n1 2021-01-31 04:46:04        76  38152c64-d439-43cf-9856-4ca35d39d7ac   \n2 2021-01-19 06:47:40        79  42466610-f76d-4b88-a45d-613ba9908cd0   \n3 2021-05-31 08:28:18        39  d67cef6e-40fb-4301-9d0d-4c6674c275a7   \n4 2021-02-13 22:44:45        64  621cf303-9bb0-4c63-8eb0-6de9a2538fda   \n\n                                         description        date  \n0  {\"purpose\": \"1. Outside media section try idea...  2021-02-20  \n1  {\"purpose\": \"***\\n\\n|Yet know ten just.|Us ind...  2021-01-31  \n2  {\"purpose\": \"1. Fall court door forget give as...  2021-01-19  \n3  {\"purpose\": \"Lay authority debate fast. Cut re...  2021-05-31  \n4  {\"purpose\": \"<!-- Talk significant yourself se...  2021-02-13  ",
      "text/html": "<div>\n<style scoped>\n    .dataframe tbody tr th:only-of-type {\n        vertical-align: middle;\n    }\n\n    .dataframe tbody tr th {\n        vertical-align: top;\n    }\n\n    .dataframe thead th {\n        text-align: right;\n    }\n</style>\n<table border=\"1\" class=\"dataframe\">\n  <thead>\n    <tr style=\"text-align: right;\">\n      <th></th>\n      <th>timestamp</th>\n      <th>event_id</th>\n      <th>error_id</th>\n      <th>description</th>\n      <th>date</th>\n    </tr>\n  </thead>\n  <tbody>\n    <tr>\n      <th>0</th>\n      <td>2021-02-20 04:02:25</td>\n      <td>48</td>\n      <td>c63c530e-cb13-45af-a5d6-98b496e25914</td>\n      <td>{\"purpose\": \"1. Outside media section try idea...</td>\n      <td>2021-02-20</td>\n    </tr>\n    <tr>\n      <th>1</th>\n      <td>2021-01-31 04:46:04</td>\n      <td>76</td>\n      <td>38152c64-d439-43cf-9856-4ca35d39d7ac</td>\n      <td>{\"purpose\": \"***\\n\\n|Yet know ten just.|Us ind...</td>\n      <td>2021-01-31</td>\n    </tr>\n    <tr>\n      <th>2</th>\n      <td>2021-01-19 06:47:40</td>\n      <td>79</td>\n      <td>42466610-f76d-4b88-a45d-613ba9908cd0</td>\n      <td>{\"purpose\": \"1. Fall court door forget give as...</td>\n      <td>2021-01-19</td>\n    </tr>\n    <tr>\n      <th>3</th>\n      <td>2021-05-31 08:28:18</td>\n      <td>39</td>\n      <td>d67cef6e-40fb-4301-9d0d-4c6674c275a7</td>\n      <td>{\"purpose\": \"Lay authority debate fast. Cut re...</td>\n      <td>2021-05-31</td>\n    </tr>\n    <tr>\n      <th>4</th>\n      <td>2021-02-13 22:44:45</td>\n      <td>64</td>\n      <td>621cf303-9bb0-4c63-8eb0-6de9a2538fda</td>\n      <td>{\"purpose\": \"&lt;!-- Talk significant yourself se...</td>\n      <td>2021-02-13</td>\n    </tr>\n  </tbody>\n</table>\n</div>"
     },
     "execution_count": 25,
     "metadata": {},
     "output_type": "execute_result"
    }
   ],
   "source": [
    "server.head()"
   ],
   "metadata": {
    "collapsed": false,
    "ExecuteTime": {
     "end_time": "2023-09-18T19:10:18.278154Z",
     "start_time": "2023-09-18T19:10:18.196804Z"
    }
   },
   "id": "de717ed9639e0fe5"
  },
  {
   "cell_type": "code",
   "execution_count": 26,
   "outputs": [
    {
     "data": {
      "text/plain": "date\n2020-12-31     53\n2021-05-31    390\n2021-05-17    392\n2021-04-03    394\n2021-03-06    399\n             ... \n2021-03-09    483\n2021-02-15    483\n2021-02-12    484\n2021-02-27    486\n2021-01-05    488\nName: count, Length: 152, dtype: int64"
     },
     "execution_count": 26,
     "metadata": {},
     "output_type": "execute_result"
    }
   ],
   "source": [
    "server['date'].value_counts().sort_values()"
   ],
   "metadata": {
    "collapsed": false,
    "ExecuteTime": {
     "end_time": "2023-09-18T19:10:18.278414Z",
     "start_time": "2023-09-18T19:10:18.203043Z"
    }
   },
   "id": "c4c27e197ac25354"
  },
  {
   "cell_type": "code",
   "execution_count": 27,
   "outputs": [],
   "source": [
    "clients['date'] = clients.timestamp.dt.date"
   ],
   "metadata": {
    "collapsed": false,
    "ExecuteTime": {
     "end_time": "2023-09-18T19:10:18.278508Z",
     "start_time": "2023-09-18T19:10:18.212938Z"
    }
   },
   "id": "14210d2c7302f48b"
  },
  {
   "cell_type": "code",
   "execution_count": 28,
   "outputs": [
    {
     "data": {
      "text/plain": "            timestamp                              error_id  player_id  \\\n0 2021-03-07 20:15:37  9f38f71f-427c-4708-89b1-460447beee60     808459   \n1 2021-05-25 03:37:00  52f42851-6d59-4357-9377-034f1ffdc011     687824   \n2 2021-01-06 14:03:20  bf863c14-64a3-4edc-b9ff-49a6c0955166     729781   \n3 2021-01-31 04:46:04  38152c64-d439-43cf-9856-4ca35d39d7ac     131824   \n4 2021-05-31 08:28:18  d67cef6e-40fb-4301-9d0d-4c6674c275a7     169066   \n\n                                         description        date  \n0  {\"purpose\": \"```continue\\nOf special middle ma...  2021-03-07  \n1  {\"purpose\": \"Professional mean common able gun...  2021-05-25  \n2  {\"purpose\": \"![Without any in us daughter conf...  2021-01-06  \n3  {\"purpose\": \"<!-- Serious raise try everyone. ...  2021-01-31  \n4  {\"purpose\": \"> Sound manage their.\\n\\nPopular ...  2021-05-31  ",
      "text/html": "<div>\n<style scoped>\n    .dataframe tbody tr th:only-of-type {\n        vertical-align: middle;\n    }\n\n    .dataframe tbody tr th {\n        vertical-align: top;\n    }\n\n    .dataframe thead th {\n        text-align: right;\n    }\n</style>\n<table border=\"1\" class=\"dataframe\">\n  <thead>\n    <tr style=\"text-align: right;\">\n      <th></th>\n      <th>timestamp</th>\n      <th>error_id</th>\n      <th>player_id</th>\n      <th>description</th>\n      <th>date</th>\n    </tr>\n  </thead>\n  <tbody>\n    <tr>\n      <th>0</th>\n      <td>2021-03-07 20:15:37</td>\n      <td>9f38f71f-427c-4708-89b1-460447beee60</td>\n      <td>808459</td>\n      <td>{\"purpose\": \"```continue\\nOf special middle ma...</td>\n      <td>2021-03-07</td>\n    </tr>\n    <tr>\n      <th>1</th>\n      <td>2021-05-25 03:37:00</td>\n      <td>52f42851-6d59-4357-9377-034f1ffdc011</td>\n      <td>687824</td>\n      <td>{\"purpose\": \"Professional mean common able gun...</td>\n      <td>2021-05-25</td>\n    </tr>\n    <tr>\n      <th>2</th>\n      <td>2021-01-06 14:03:20</td>\n      <td>bf863c14-64a3-4edc-b9ff-49a6c0955166</td>\n      <td>729781</td>\n      <td>{\"purpose\": \"![Without any in us daughter conf...</td>\n      <td>2021-01-06</td>\n    </tr>\n    <tr>\n      <th>3</th>\n      <td>2021-01-31 04:46:04</td>\n      <td>38152c64-d439-43cf-9856-4ca35d39d7ac</td>\n      <td>131824</td>\n      <td>{\"purpose\": \"&lt;!-- Serious raise try everyone. ...</td>\n      <td>2021-01-31</td>\n    </tr>\n    <tr>\n      <th>4</th>\n      <td>2021-05-31 08:28:18</td>\n      <td>d67cef6e-40fb-4301-9d0d-4c6674c275a7</td>\n      <td>169066</td>\n      <td>{\"purpose\": \"&gt; Sound manage their.\\n\\nPopular ...</td>\n      <td>2021-05-31</td>\n    </tr>\n  </tbody>\n</table>\n</div>"
     },
     "execution_count": 28,
     "metadata": {},
     "output_type": "execute_result"
    }
   ],
   "source": [
    "clients.head()"
   ],
   "metadata": {
    "collapsed": false,
    "ExecuteTime": {
     "end_time": "2023-09-18T19:10:18.278728Z",
     "start_time": "2023-09-18T19:10:18.216353Z"
    }
   },
   "id": "af6eeb9b07e2acd7"
  },
  {
   "cell_type": "code",
   "execution_count": 29,
   "outputs": [
    {
     "data": {
      "text/plain": "date\n2021-05-18    514\n2021-04-28    489\n2021-03-28    489\n2021-01-11    488\n2021-05-23    487\n             ... \n2021-03-06    401\n2021-01-31    400\n2021-05-22    393\n2021-05-31    365\n2020-12-31     51\nName: count, Length: 152, dtype: int64"
     },
     "execution_count": 29,
     "metadata": {},
     "output_type": "execute_result"
    }
   ],
   "source": [
    "clients['date'].value_counts().sort_values(ascending=False)"
   ],
   "metadata": {
    "collapsed": false,
    "ExecuteTime": {
     "end_time": "2023-09-18T19:10:18.278917Z",
     "start_time": "2023-09-18T19:10:18.221454Z"
    }
   },
   "id": "f1d77f657c4f7605"
  },
  {
   "cell_type": "code",
   "execution_count": 30,
   "outputs": [],
   "source": [
    "import datetime"
   ],
   "metadata": {
    "collapsed": false,
    "ExecuteTime": {
     "end_time": "2023-09-18T19:10:18.278980Z",
     "start_time": "2023-09-18T19:10:18.224667Z"
    }
   },
   "id": "e88ae45a9b09de39"
  },
  {
   "cell_type": "code",
   "execution_count": 31,
   "outputs": [],
   "source": [
    "clients_slice = clients[clients['date'] == datetime.date(2021, 5, 18)]"
   ],
   "metadata": {
    "collapsed": false,
    "ExecuteTime": {
     "end_time": "2023-09-18T19:10:18.282207Z",
     "start_time": "2023-09-18T19:10:18.226768Z"
    }
   },
   "id": "374c31c1b682df7d"
  },
  {
   "cell_type": "code",
   "execution_count": 32,
   "outputs": [
    {
     "data": {
      "text/plain": "              timestamp                              error_id  player_id  \\\n132 2021-05-18 15:26:17  f53f3aac-fb42-4147-bae6-fd8bbccfb083     152131   \n325 2021-05-18 05:08:02  50a346c0-5796-4f35-b5f1-d5396e630ea5     562750   \n456 2021-05-18 08:21:29  918665af-0cec-442d-b4a5-977387158fc3      51220   \n505 2021-05-18 18:54:16  dd23a68b-eb70-4318-bfe1-16eb9d5ef42e     748809   \n520 2021-05-18 14:11:15  d3bdb38c-ff8d-4490-96b7-5e8e13528985     471957   \n\n                                           description        date  \n132  {\"purpose\": \"*Poor pattern air experience.*\\nI...  2021-05-18  \n325  {\"purpose\": \"> Car eye onto return mouth.\\n\\nm...  2021-05-18  \n456  {\"purpose\": \"##### Body price expect trade col...  2021-05-18  \n505  {\"purpose\": \"*Discuss successful front serve p...  2021-05-18  \n520  {\"purpose\": \"Sister south everything.\\n\\n**tre...  2021-05-18  ",
      "text/html": "<div>\n<style scoped>\n    .dataframe tbody tr th:only-of-type {\n        vertical-align: middle;\n    }\n\n    .dataframe tbody tr th {\n        vertical-align: top;\n    }\n\n    .dataframe thead th {\n        text-align: right;\n    }\n</style>\n<table border=\"1\" class=\"dataframe\">\n  <thead>\n    <tr style=\"text-align: right;\">\n      <th></th>\n      <th>timestamp</th>\n      <th>error_id</th>\n      <th>player_id</th>\n      <th>description</th>\n      <th>date</th>\n    </tr>\n  </thead>\n  <tbody>\n    <tr>\n      <th>132</th>\n      <td>2021-05-18 15:26:17</td>\n      <td>f53f3aac-fb42-4147-bae6-fd8bbccfb083</td>\n      <td>152131</td>\n      <td>{\"purpose\": \"*Poor pattern air experience.*\\nI...</td>\n      <td>2021-05-18</td>\n    </tr>\n    <tr>\n      <th>325</th>\n      <td>2021-05-18 05:08:02</td>\n      <td>50a346c0-5796-4f35-b5f1-d5396e630ea5</td>\n      <td>562750</td>\n      <td>{\"purpose\": \"&gt; Car eye onto return mouth.\\n\\nm...</td>\n      <td>2021-05-18</td>\n    </tr>\n    <tr>\n      <th>456</th>\n      <td>2021-05-18 08:21:29</td>\n      <td>918665af-0cec-442d-b4a5-977387158fc3</td>\n      <td>51220</td>\n      <td>{\"purpose\": \"##### Body price expect trade col...</td>\n      <td>2021-05-18</td>\n    </tr>\n    <tr>\n      <th>505</th>\n      <td>2021-05-18 18:54:16</td>\n      <td>dd23a68b-eb70-4318-bfe1-16eb9d5ef42e</td>\n      <td>748809</td>\n      <td>{\"purpose\": \"*Discuss successful front serve p...</td>\n      <td>2021-05-18</td>\n    </tr>\n    <tr>\n      <th>520</th>\n      <td>2021-05-18 14:11:15</td>\n      <td>d3bdb38c-ff8d-4490-96b7-5e8e13528985</td>\n      <td>471957</td>\n      <td>{\"purpose\": \"Sister south everything.\\n\\n**tre...</td>\n      <td>2021-05-18</td>\n    </tr>\n  </tbody>\n</table>\n</div>"
     },
     "execution_count": 32,
     "metadata": {},
     "output_type": "execute_result"
    }
   ],
   "source": [
    "clients_slice.head()"
   ],
   "metadata": {
    "collapsed": false,
    "ExecuteTime": {
     "end_time": "2023-09-18T19:10:18.282769Z",
     "start_time": "2023-09-18T19:10:18.234790Z"
    }
   },
   "id": "97d2c1b7ace92ebe"
  },
  {
   "cell_type": "code",
   "execution_count": 33,
   "outputs": [],
   "source": [
    "server_slice = server[server['date'] == datetime.date(2021, 5, 18)]"
   ],
   "metadata": {
    "collapsed": false,
    "ExecuteTime": {
     "end_time": "2023-09-18T19:10:18.307625Z",
     "start_time": "2023-09-18T19:10:18.239485Z"
    }
   },
   "id": "6f58a76c50084c1d"
  },
  {
   "cell_type": "code",
   "execution_count": 34,
   "outputs": [
    {
     "data": {
      "text/plain": "              timestamp  event_id                              error_id  \\\n122 2021-05-18 15:26:17        68  f53f3aac-fb42-4147-bae6-fd8bbccfb083   \n304 2021-05-18 05:08:02        61  50a346c0-5796-4f35-b5f1-d5396e630ea5   \n342 2021-05-18 23:50:37         1  bace1a21-9fd3-4d34-bb62-b040ddc3fff5   \n415 2021-05-18 08:21:29        41  918665af-0cec-442d-b4a5-977387158fc3   \n458 2021-05-18 18:54:16        58  dd23a68b-eb70-4318-bfe1-16eb9d5ef42e   \n\n                                           description        date  \n122  {\"purpose\": \"*Window this impact establish son...  2021-05-18  \n304  {\"purpose\": \"<!-- During direction ability ide...  2021-05-18  \n342  {\"purpose\": \"<!-- Car position body test which...  2021-05-18  \n415  {\"purpose\": \"1. Consider morning when always a...  2021-05-18  \n458  {\"purpose\": \"\\t8. Dark his particularly centra...  2021-05-18  ",
      "text/html": "<div>\n<style scoped>\n    .dataframe tbody tr th:only-of-type {\n        vertical-align: middle;\n    }\n\n    .dataframe tbody tr th {\n        vertical-align: top;\n    }\n\n    .dataframe thead th {\n        text-align: right;\n    }\n</style>\n<table border=\"1\" class=\"dataframe\">\n  <thead>\n    <tr style=\"text-align: right;\">\n      <th></th>\n      <th>timestamp</th>\n      <th>event_id</th>\n      <th>error_id</th>\n      <th>description</th>\n      <th>date</th>\n    </tr>\n  </thead>\n  <tbody>\n    <tr>\n      <th>122</th>\n      <td>2021-05-18 15:26:17</td>\n      <td>68</td>\n      <td>f53f3aac-fb42-4147-bae6-fd8bbccfb083</td>\n      <td>{\"purpose\": \"*Window this impact establish son...</td>\n      <td>2021-05-18</td>\n    </tr>\n    <tr>\n      <th>304</th>\n      <td>2021-05-18 05:08:02</td>\n      <td>61</td>\n      <td>50a346c0-5796-4f35-b5f1-d5396e630ea5</td>\n      <td>{\"purpose\": \"&lt;!-- During direction ability ide...</td>\n      <td>2021-05-18</td>\n    </tr>\n    <tr>\n      <th>342</th>\n      <td>2021-05-18 23:50:37</td>\n      <td>1</td>\n      <td>bace1a21-9fd3-4d34-bb62-b040ddc3fff5</td>\n      <td>{\"purpose\": \"&lt;!-- Car position body test which...</td>\n      <td>2021-05-18</td>\n    </tr>\n    <tr>\n      <th>415</th>\n      <td>2021-05-18 08:21:29</td>\n      <td>41</td>\n      <td>918665af-0cec-442d-b4a5-977387158fc3</td>\n      <td>{\"purpose\": \"1. Consider morning when always a...</td>\n      <td>2021-05-18</td>\n    </tr>\n    <tr>\n      <th>458</th>\n      <td>2021-05-18 18:54:16</td>\n      <td>58</td>\n      <td>dd23a68b-eb70-4318-bfe1-16eb9d5ef42e</td>\n      <td>{\"purpose\": \"\\t8. Dark his particularly centra...</td>\n      <td>2021-05-18</td>\n    </tr>\n  </tbody>\n</table>\n</div>"
     },
     "execution_count": 34,
     "metadata": {},
     "output_type": "execute_result"
    }
   ],
   "source": [
    "server_slice.head()"
   ],
   "metadata": {
    "collapsed": false,
    "ExecuteTime": {
     "end_time": "2023-09-18T19:10:18.308241Z",
     "start_time": "2023-09-18T19:10:18.243647Z"
    }
   },
   "id": "93bd28127f975f3f"
  },
  {
   "cell_type": "code",
   "execution_count": 35,
   "outputs": [
    {
     "data": {
      "text/plain": "(468, 5)"
     },
     "execution_count": 35,
     "metadata": {},
     "output_type": "execute_result"
    }
   ],
   "source": [
    "server_slice.shape"
   ],
   "metadata": {
    "collapsed": false,
    "ExecuteTime": {
     "end_time": "2023-09-18T19:10:18.308431Z",
     "start_time": "2023-09-18T19:10:18.246585Z"
    }
   },
   "id": "dd625d5f67aca784"
  },
  {
   "cell_type": "code",
   "execution_count": 36,
   "outputs": [
    {
     "data": {
      "text/plain": "(514, 5)"
     },
     "execution_count": 36,
     "metadata": {},
     "output_type": "execute_result"
    }
   ],
   "source": [
    "clients_slice.shape"
   ],
   "metadata": {
    "collapsed": false,
    "ExecuteTime": {
     "end_time": "2023-09-18T19:10:18.308556Z",
     "start_time": "2023-09-18T19:10:18.249276Z"
    }
   },
   "id": "c57899a76e3e5481"
  },
  {
   "cell_type": "code",
   "execution_count": 37,
   "outputs": [
    {
     "data": {
      "text/plain": "(16577, 2)"
     },
     "execution_count": 37,
     "metadata": {},
     "output_type": "execute_result"
    }
   ],
   "source": [
    "cheaters.shape"
   ],
   "metadata": {
    "collapsed": false,
    "ExecuteTime": {
     "end_time": "2023-09-18T19:10:18.308675Z",
     "start_time": "2023-09-18T19:10:18.252246Z"
    }
   },
   "id": "a43ad4ebdc2a40f0"
  },
  {
   "cell_type": "code",
   "execution_count": 38,
   "outputs": [
    {
     "data": {
      "text/plain": "player_id\n1065      1\n5362      1\n2955      1\n2173      1\n1154      1\n         ..\n999665    1\n999735    1\n999761    1\n999850    1\n999922    1\nName: count, Length: 16577, dtype: int64"
     },
     "execution_count": 38,
     "metadata": {},
     "output_type": "execute_result"
    }
   ],
   "source": [
    "cheaters['player_id'].value_counts().sort_values(ascending=False)"
   ],
   "metadata": {
    "collapsed": false,
    "ExecuteTime": {
     "end_time": "2023-09-18T19:10:18.309037Z",
     "start_time": "2023-09-18T19:10:18.255287Z"
    }
   },
   "id": "35ac40fe1bfc1e8d"
  },
  {
   "cell_type": "code",
   "execution_count": 48,
   "outputs": [],
   "source": [
    "clients_servers = pd.merge(clients_slice, server_slice, \"inner\", on='error_id')"
   ],
   "metadata": {
    "collapsed": false,
    "ExecuteTime": {
     "end_time": "2023-09-18T19:44:42.472773Z",
     "start_time": "2023-09-18T19:44:42.454757Z"
    }
   },
   "id": "3ec466d9790ef094"
  },
  {
   "cell_type": "code",
   "execution_count": 49,
   "outputs": [
    {
     "data": {
      "text/plain": "(248, 9)"
     },
     "execution_count": 49,
     "metadata": {},
     "output_type": "execute_result"
    }
   ],
   "source": [
    "clients_servers.shape"
   ],
   "metadata": {
    "collapsed": false,
    "ExecuteTime": {
     "end_time": "2023-09-18T19:44:43.325821Z",
     "start_time": "2023-09-18T19:44:43.320155Z"
    }
   },
   "id": "2d12aaf39346b706"
  },
  {
   "cell_type": "code",
   "execution_count": 50,
   "outputs": [
    {
     "data": {
      "text/plain": "          timestamp_x                              error_id  player_id  \\\n0 2021-05-18 15:26:17  f53f3aac-fb42-4147-bae6-fd8bbccfb083     152131   \n1 2021-05-18 05:08:02  50a346c0-5796-4f35-b5f1-d5396e630ea5     562750   \n2 2021-05-18 08:21:29  918665af-0cec-442d-b4a5-977387158fc3      51220   \n3 2021-05-18 18:54:16  dd23a68b-eb70-4318-bfe1-16eb9d5ef42e     748809   \n4 2021-05-18 03:46:07  e540737f-9206-4022-9d2c-b9778816f9a6     637411   \n\n                                       description_x      date_x  \\\n0  {\"purpose\": \"*Poor pattern air experience.*\\nI...  2021-05-18   \n1  {\"purpose\": \"> Car eye onto return mouth.\\n\\nm...  2021-05-18   \n2  {\"purpose\": \"##### Body price expect trade col...  2021-05-18   \n3  {\"purpose\": \"*Discuss successful front serve p...  2021-05-18   \n4  {\"purpose\": \"\\t10. Respond will economy almost...  2021-05-18   \n\n          timestamp_y  event_id  \\\n0 2021-05-18 15:26:17        68   \n1 2021-05-18 05:08:02        61   \n2 2021-05-18 08:21:29        41   \n3 2021-05-18 18:54:16        58   \n4 2021-05-18 03:46:07        21   \n\n                                       description_y      date_y  \n0  {\"purpose\": \"*Window this impact establish son...  2021-05-18  \n1  {\"purpose\": \"<!-- During direction ability ide...  2021-05-18  \n2  {\"purpose\": \"1. Consider morning when always a...  2021-05-18  \n3  {\"purpose\": \"\\t8. Dark his particularly centra...  2021-05-18  \n4  {\"purpose\": \"***Type American memory suffer.**...  2021-05-18  ",
      "text/html": "<div>\n<style scoped>\n    .dataframe tbody tr th:only-of-type {\n        vertical-align: middle;\n    }\n\n    .dataframe tbody tr th {\n        vertical-align: top;\n    }\n\n    .dataframe thead th {\n        text-align: right;\n    }\n</style>\n<table border=\"1\" class=\"dataframe\">\n  <thead>\n    <tr style=\"text-align: right;\">\n      <th></th>\n      <th>timestamp_x</th>\n      <th>error_id</th>\n      <th>player_id</th>\n      <th>description_x</th>\n      <th>date_x</th>\n      <th>timestamp_y</th>\n      <th>event_id</th>\n      <th>description_y</th>\n      <th>date_y</th>\n    </tr>\n  </thead>\n  <tbody>\n    <tr>\n      <th>0</th>\n      <td>2021-05-18 15:26:17</td>\n      <td>f53f3aac-fb42-4147-bae6-fd8bbccfb083</td>\n      <td>152131</td>\n      <td>{\"purpose\": \"*Poor pattern air experience.*\\nI...</td>\n      <td>2021-05-18</td>\n      <td>2021-05-18 15:26:17</td>\n      <td>68</td>\n      <td>{\"purpose\": \"*Window this impact establish son...</td>\n      <td>2021-05-18</td>\n    </tr>\n    <tr>\n      <th>1</th>\n      <td>2021-05-18 05:08:02</td>\n      <td>50a346c0-5796-4f35-b5f1-d5396e630ea5</td>\n      <td>562750</td>\n      <td>{\"purpose\": \"&gt; Car eye onto return mouth.\\n\\nm...</td>\n      <td>2021-05-18</td>\n      <td>2021-05-18 05:08:02</td>\n      <td>61</td>\n      <td>{\"purpose\": \"&lt;!-- During direction ability ide...</td>\n      <td>2021-05-18</td>\n    </tr>\n    <tr>\n      <th>2</th>\n      <td>2021-05-18 08:21:29</td>\n      <td>918665af-0cec-442d-b4a5-977387158fc3</td>\n      <td>51220</td>\n      <td>{\"purpose\": \"##### Body price expect trade col...</td>\n      <td>2021-05-18</td>\n      <td>2021-05-18 08:21:29</td>\n      <td>41</td>\n      <td>{\"purpose\": \"1. Consider morning when always a...</td>\n      <td>2021-05-18</td>\n    </tr>\n    <tr>\n      <th>3</th>\n      <td>2021-05-18 18:54:16</td>\n      <td>dd23a68b-eb70-4318-bfe1-16eb9d5ef42e</td>\n      <td>748809</td>\n      <td>{\"purpose\": \"*Discuss successful front serve p...</td>\n      <td>2021-05-18</td>\n      <td>2021-05-18 18:54:16</td>\n      <td>58</td>\n      <td>{\"purpose\": \"\\t8. Dark his particularly centra...</td>\n      <td>2021-05-18</td>\n    </tr>\n    <tr>\n      <th>4</th>\n      <td>2021-05-18 03:46:07</td>\n      <td>e540737f-9206-4022-9d2c-b9778816f9a6</td>\n      <td>637411</td>\n      <td>{\"purpose\": \"\\t10. Respond will economy almost...</td>\n      <td>2021-05-18</td>\n      <td>2021-05-18 03:46:07</td>\n      <td>21</td>\n      <td>{\"purpose\": \"***Type American memory suffer.**...</td>\n      <td>2021-05-18</td>\n    </tr>\n  </tbody>\n</table>\n</div>"
     },
     "execution_count": 50,
     "metadata": {},
     "output_type": "execute_result"
    }
   ],
   "source": [
    "clients_servers.head()"
   ],
   "metadata": {
    "collapsed": false,
    "ExecuteTime": {
     "end_time": "2023-09-18T19:44:44.622611Z",
     "start_time": "2023-09-18T19:44:44.613800Z"
    }
   },
   "id": "8ef62955c3aaf15c"
  },
  {
   "cell_type": "code",
   "execution_count": 51,
   "outputs": [
    {
     "data": {
      "text/plain": "            timestamp_x                              error_id  player_id  \\\n0   2021-05-18 15:26:17  f53f3aac-fb42-4147-bae6-fd8bbccfb083     152131   \n1   2021-05-18 05:08:02  50a346c0-5796-4f35-b5f1-d5396e630ea5     562750   \n2   2021-05-18 08:21:29  918665af-0cec-442d-b4a5-977387158fc3      51220   \n3   2021-05-18 18:54:16  dd23a68b-eb70-4318-bfe1-16eb9d5ef42e     748809   \n4   2021-05-18 03:46:07  e540737f-9206-4022-9d2c-b9778816f9a6     637411   \n..                  ...                                   ...        ...   \n243 2021-05-18 10:23:44  427f8e45-d763-48b1-b530-aebb3b8f867f      40331   \n244 2021-05-18 05:06:25  8ffee175-ac93-42ab-9171-8ede51d07382     655138   \n245 2021-05-18 23:21:55  87df01cd-bb3f-4703-919e-75889e4726ac     399192   \n246 2021-05-18 21:07:33  c86f3bab-1110-4f8f-bb70-ea1a76f5b579     154068   \n247 2021-05-18 15:23:18  95f662da-faad-41eb-8a38-98b3c4ab2b10     114702   \n\n                                         description_x      date_x  \\\n0    {\"purpose\": \"*Poor pattern air experience.*\\nI...  2021-05-18   \n1    {\"purpose\": \"> Car eye onto return mouth.\\n\\nm...  2021-05-18   \n2    {\"purpose\": \"##### Body price expect trade col...  2021-05-18   \n3    {\"purpose\": \"*Discuss successful front serve p...  2021-05-18   \n4    {\"purpose\": \"\\t10. Respond will economy almost...  2021-05-18   \n..                                                 ...         ...   \n243  {\"purpose\": \"> Yourself attack action might an...  2021-05-18   \n244  {\"purpose\": \"1. Set boy so at nearly environme...  2021-05-18   \n245  {\"purpose\": \"Now stage able turn.\\n-----------...  2021-05-18   \n246  {\"purpose\": \"```evening\\nTogether different fa...  2021-05-18   \n247  {\"purpose\": \"|Own only give she happen provide...  2021-05-18   \n\n            timestamp_y  event_id  \\\n0   2021-05-18 15:26:17        68   \n1   2021-05-18 05:08:02        61   \n2   2021-05-18 08:21:29        41   \n3   2021-05-18 18:54:16        58   \n4   2021-05-18 03:46:07        21   \n..                  ...       ...   \n243 2021-05-18 10:23:44        70   \n244 2021-05-18 05:06:25        37   \n245 2021-05-18 23:21:55        58   \n246 2021-05-18 21:07:33        91   \n247 2021-05-18 15:23:18       100   \n\n                                         description_y      date_y  \\\n0    {\"purpose\": \"*Window this impact establish son...  2021-05-18   \n1    {\"purpose\": \"<!-- During direction ability ide...  2021-05-18   \n2    {\"purpose\": \"1. Consider morning when always a...  2021-05-18   \n3    {\"purpose\": \"\\t8. Dark his particularly centra...  2021-05-18   \n4    {\"purpose\": \"***Type American memory suffer.**...  2021-05-18   \n..                                                 ...         ...   \n243  {\"purpose\": \"**exactly**\\n1. Finally so among ...  2021-05-18   \n244  {\"purpose\": \"\\t4. Provide another president an...  2021-05-18   \n245  {\"purpose\": \"Avoid husband talk interesting.\\n...  2021-05-18   \n246  {\"purpose\": \"<!-- School wind president entire...  2021-05-18   \n247  {\"purpose\": \"man\\n---\\n\\n_Religious should my ...  2021-05-18   \n\n                ban_time  \n0    2021-01-04 09:48:57  \n1    2021-04-05 08:32:41  \n2                    NaN  \n3    2021-04-20 09:39:11  \n4                    NaN  \n..                   ...  \n243  2021-05-24 07:40:26  \n244                  NaN  \n245                  NaN  \n246  2021-05-11 01:30:41  \n247                  NaN  \n\n[248 rows x 10 columns]",
      "text/html": "<div>\n<style scoped>\n    .dataframe tbody tr th:only-of-type {\n        vertical-align: middle;\n    }\n\n    .dataframe tbody tr th {\n        vertical-align: top;\n    }\n\n    .dataframe thead th {\n        text-align: right;\n    }\n</style>\n<table border=\"1\" class=\"dataframe\">\n  <thead>\n    <tr style=\"text-align: right;\">\n      <th></th>\n      <th>timestamp_x</th>\n      <th>error_id</th>\n      <th>player_id</th>\n      <th>description_x</th>\n      <th>date_x</th>\n      <th>timestamp_y</th>\n      <th>event_id</th>\n      <th>description_y</th>\n      <th>date_y</th>\n      <th>ban_time</th>\n    </tr>\n  </thead>\n  <tbody>\n    <tr>\n      <th>0</th>\n      <td>2021-05-18 15:26:17</td>\n      <td>f53f3aac-fb42-4147-bae6-fd8bbccfb083</td>\n      <td>152131</td>\n      <td>{\"purpose\": \"*Poor pattern air experience.*\\nI...</td>\n      <td>2021-05-18</td>\n      <td>2021-05-18 15:26:17</td>\n      <td>68</td>\n      <td>{\"purpose\": \"*Window this impact establish son...</td>\n      <td>2021-05-18</td>\n      <td>2021-01-04 09:48:57</td>\n    </tr>\n    <tr>\n      <th>1</th>\n      <td>2021-05-18 05:08:02</td>\n      <td>50a346c0-5796-4f35-b5f1-d5396e630ea5</td>\n      <td>562750</td>\n      <td>{\"purpose\": \"&gt; Car eye onto return mouth.\\n\\nm...</td>\n      <td>2021-05-18</td>\n      <td>2021-05-18 05:08:02</td>\n      <td>61</td>\n      <td>{\"purpose\": \"&lt;!-- During direction ability ide...</td>\n      <td>2021-05-18</td>\n      <td>2021-04-05 08:32:41</td>\n    </tr>\n    <tr>\n      <th>2</th>\n      <td>2021-05-18 08:21:29</td>\n      <td>918665af-0cec-442d-b4a5-977387158fc3</td>\n      <td>51220</td>\n      <td>{\"purpose\": \"##### Body price expect trade col...</td>\n      <td>2021-05-18</td>\n      <td>2021-05-18 08:21:29</td>\n      <td>41</td>\n      <td>{\"purpose\": \"1. Consider morning when always a...</td>\n      <td>2021-05-18</td>\n      <td>NaN</td>\n    </tr>\n    <tr>\n      <th>3</th>\n      <td>2021-05-18 18:54:16</td>\n      <td>dd23a68b-eb70-4318-bfe1-16eb9d5ef42e</td>\n      <td>748809</td>\n      <td>{\"purpose\": \"*Discuss successful front serve p...</td>\n      <td>2021-05-18</td>\n      <td>2021-05-18 18:54:16</td>\n      <td>58</td>\n      <td>{\"purpose\": \"\\t8. Dark his particularly centra...</td>\n      <td>2021-05-18</td>\n      <td>2021-04-20 09:39:11</td>\n    </tr>\n    <tr>\n      <th>4</th>\n      <td>2021-05-18 03:46:07</td>\n      <td>e540737f-9206-4022-9d2c-b9778816f9a6</td>\n      <td>637411</td>\n      <td>{\"purpose\": \"\\t10. Respond will economy almost...</td>\n      <td>2021-05-18</td>\n      <td>2021-05-18 03:46:07</td>\n      <td>21</td>\n      <td>{\"purpose\": \"***Type American memory suffer.**...</td>\n      <td>2021-05-18</td>\n      <td>NaN</td>\n    </tr>\n    <tr>\n      <th>...</th>\n      <td>...</td>\n      <td>...</td>\n      <td>...</td>\n      <td>...</td>\n      <td>...</td>\n      <td>...</td>\n      <td>...</td>\n      <td>...</td>\n      <td>...</td>\n      <td>...</td>\n    </tr>\n    <tr>\n      <th>243</th>\n      <td>2021-05-18 10:23:44</td>\n      <td>427f8e45-d763-48b1-b530-aebb3b8f867f</td>\n      <td>40331</td>\n      <td>{\"purpose\": \"&gt; Yourself attack action might an...</td>\n      <td>2021-05-18</td>\n      <td>2021-05-18 10:23:44</td>\n      <td>70</td>\n      <td>{\"purpose\": \"**exactly**\\n1. Finally so among ...</td>\n      <td>2021-05-18</td>\n      <td>2021-05-24 07:40:26</td>\n    </tr>\n    <tr>\n      <th>244</th>\n      <td>2021-05-18 05:06:25</td>\n      <td>8ffee175-ac93-42ab-9171-8ede51d07382</td>\n      <td>655138</td>\n      <td>{\"purpose\": \"1. Set boy so at nearly environme...</td>\n      <td>2021-05-18</td>\n      <td>2021-05-18 05:06:25</td>\n      <td>37</td>\n      <td>{\"purpose\": \"\\t4. Provide another president an...</td>\n      <td>2021-05-18</td>\n      <td>NaN</td>\n    </tr>\n    <tr>\n      <th>245</th>\n      <td>2021-05-18 23:21:55</td>\n      <td>87df01cd-bb3f-4703-919e-75889e4726ac</td>\n      <td>399192</td>\n      <td>{\"purpose\": \"Now stage able turn.\\n-----------...</td>\n      <td>2021-05-18</td>\n      <td>2021-05-18 23:21:55</td>\n      <td>58</td>\n      <td>{\"purpose\": \"Avoid husband talk interesting.\\n...</td>\n      <td>2021-05-18</td>\n      <td>NaN</td>\n    </tr>\n    <tr>\n      <th>246</th>\n      <td>2021-05-18 21:07:33</td>\n      <td>c86f3bab-1110-4f8f-bb70-ea1a76f5b579</td>\n      <td>154068</td>\n      <td>{\"purpose\": \"```evening\\nTogether different fa...</td>\n      <td>2021-05-18</td>\n      <td>2021-05-18 21:07:33</td>\n      <td>91</td>\n      <td>{\"purpose\": \"&lt;!-- School wind president entire...</td>\n      <td>2021-05-18</td>\n      <td>2021-05-11 01:30:41</td>\n    </tr>\n    <tr>\n      <th>247</th>\n      <td>2021-05-18 15:23:18</td>\n      <td>95f662da-faad-41eb-8a38-98b3c4ab2b10</td>\n      <td>114702</td>\n      <td>{\"purpose\": \"|Own only give she happen provide...</td>\n      <td>2021-05-18</td>\n      <td>2021-05-18 15:23:18</td>\n      <td>100</td>\n      <td>{\"purpose\": \"man\\n---\\n\\n_Religious should my ...</td>\n      <td>2021-05-18</td>\n      <td>NaN</td>\n    </tr>\n  </tbody>\n</table>\n<p>248 rows × 10 columns</p>\n</div>"
     },
     "execution_count": 51,
     "metadata": {},
     "output_type": "execute_result"
    }
   ],
   "source": [
    "pd.merge(clients_servers, cheaters, \"left\", on='player_id')"
   ],
   "metadata": {
    "collapsed": false,
    "ExecuteTime": {
     "end_time": "2023-09-18T19:44:46.986974Z",
     "start_time": "2023-09-18T19:44:46.973076Z"
    }
   },
   "id": "6a1786f530dfbf5"
  },
  {
   "cell_type": "code",
   "execution_count": 52,
   "outputs": [
    {
     "data": {
      "text/plain": "True"
     },
     "execution_count": 52,
     "metadata": {},
     "output_type": "execute_result"
    }
   ],
   "source": [
    "server.error_id.is_unique"
   ],
   "metadata": {
    "collapsed": false,
    "ExecuteTime": {
     "end_time": "2023-09-18T19:44:52.056318Z",
     "start_time": "2023-09-18T19:44:52.043969Z"
    }
   },
   "id": "d1b4db558ec7e484"
  },
  {
   "cell_type": "code",
   "execution_count": 53,
   "outputs": [
    {
     "data": {
      "text/plain": "True"
     },
     "execution_count": 53,
     "metadata": {},
     "output_type": "execute_result"
    }
   ],
   "source": [
    "clients.error_id.is_unique"
   ],
   "metadata": {
    "collapsed": false,
    "ExecuteTime": {
     "end_time": "2023-09-18T19:44:52.676361Z",
     "start_time": "2023-09-18T19:44:52.664123Z"
    }
   },
   "id": "309faa49bffa8c68"
  },
  {
   "cell_type": "code",
   "execution_count": null,
   "outputs": [],
   "source": [],
   "metadata": {
    "collapsed": false
   },
   "id": "4b260b341c80a6ce"
  }
 ],
 "metadata": {
  "kernelspec": {
   "display_name": "Python 3",
   "language": "python",
   "name": "python3"
  },
  "language_info": {
   "codemirror_mode": {
    "name": "ipython",
    "version": 2
   },
   "file_extension": ".py",
   "mimetype": "text/x-python",
   "name": "python",
   "nbconvert_exporter": "python",
   "pygments_lexer": "ipython2",
   "version": "2.7.6"
  }
 },
 "nbformat": 4,
 "nbformat_minor": 5
}
